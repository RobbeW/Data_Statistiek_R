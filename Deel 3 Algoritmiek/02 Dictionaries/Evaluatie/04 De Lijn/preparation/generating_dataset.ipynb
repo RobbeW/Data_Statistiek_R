{
 "cells": [
  {
   "cell_type": "code",
   "execution_count": 3,
   "metadata": {},
   "outputs": [],
   "source": [
    "########### Python 3.2 #############\n",
    "import urllib.request, json"
   ]
  },
  {
   "cell_type": "code",
   "execution_count": null,
   "metadata": {},
   "outputs": [],
   "source": [
    "### API key\n",
    "api_key = \"###\""
   ]
  },
  {
   "cell_type": "code",
   "execution_count": 43,
   "metadata": {},
   "outputs": [],
   "source": [
    "# 1378 = GENT, 1729 = AALST\n",
    "gemeente = 1729 "
   ]
  },
  {
   "cell_type": "code",
   "execution_count": 44,
   "metadata": {},
   "outputs": [],
   "source": [
    "try:\n",
    "    url = f\"https://api.delijn.be/DLKernOpenData/api/v1/gemeenten/{gemeente}/lijnen\"\n",
    "\n",
    "    hdr ={\n",
    "    # Request headers\n",
    "    'Cache-Control': 'no-cache',\n",
    "    'Ocp-Apim-Subscription-Key': api_key,\n",
    "    }\n",
    "\n",
    "    req = urllib.request.Request(url, headers=hdr)\n",
    "\n",
    "    req.get_method = lambda: 'GET'   \n",
    "    with urllib.request.urlopen(req) as response:\n",
    "        body_json = response.read()\n",
    "\n",
    "    body_dict = json.loads(body_json)\n",
    "    \n",
    "except Exception as e:\n",
    "    print(e)\n",
    "####################################"
   ]
  },
  {
   "cell_type": "code",
   "execution_count": 50,
   "metadata": {},
   "outputs": [
    {
     "name": "stdout",
     "output_type": "stream",
     "text": [
      "{'20': '205', '591': '591', '209': '209', '913': '913', '914': '914', '402': '402', '403': '403', '404': '404', '59': '597', '91': '919', '40': '407', '2': '23', '541': '541', '802': '802', '54': '547', '803': '803', '804': '804', '80': '807', '87': '875', '1': '107', '213': '213', 'R14': '214', '312': '312', '313': '313', '314': '314', '252': '252', '253': '253', '31': '317', '254': '254', '57': '577', '25': '257'}\n"
     ]
    }
   ],
   "source": [
    "lijnen = body_dict[\"lijnen\"]\n",
    "\n",
    "lijnen_Gent = {}\n",
    "for lijn in lijnen:\n",
    "    setting = (lijn[\"vervoertype\"], lijn[\"bedieningtype\"], lijn[\"publiek\"])\n",
    "    if setting == (\"BUS\", \"NORMAAL\", True):\n",
    "        lijnnr = lijn[\"lijnnummer\"]\n",
    "        lijnpub = lijn[\"lijnnummerPubliek\"]\n",
    "        lijnen_Gent[lijnpub] = lijnnr\n",
    "        \n",
    "\n",
    "print(lijnen_Gent)"
   ]
  },
  {
   "cell_type": "code",
   "execution_count": 56,
   "metadata": {},
   "outputs": [],
   "source": [
    "lijnen_Gent_haltes_temp = {}"
   ]
  },
  {
   "cell_type": "code",
   "execution_count": 57,
   "metadata": {},
   "outputs": [
    {
     "name": "stdout",
     "output_type": "stream",
     "text": [
      "HTTP Error 404: Not Found\n",
      "HTTP Error 404: Not Found\n",
      "HTTP Error 404: Not Found\n",
      "HTTP Error 404: Not Found\n",
      "HTTP Error 404: Not Found\n",
      "HTTP Error 404: Not Found\n",
      "HTTP Error 404: Not Found\n",
      "HTTP Error 404: Not Found\n",
      "HTTP Error 404: Not Found\n",
      "HTTP Error 404: Not Found\n",
      "HTTP Error 404: Not Found\n",
      "HTTP Error 404: Not Found\n",
      "HTTP Error 404: Not Found\n",
      "HTTP Error 404: Not Found\n"
     ]
    }
   ],
   "source": [
    "for pub, lijnnr in lijnen_Gent.items():\n",
    "    \n",
    "    try:\n",
    "        url = f\"https://api.delijn.be/DLKernOpenData/api/v1/lijnen/2/{lijnnr}/lijnrichtingen/HEEN/haltes\"\n",
    "\n",
    "        hdr ={\n",
    "        # Request headers\n",
    "        'Cache-Control': 'no-cache',\n",
    "        'Ocp-Apim-Subscription-Key': api_key,\n",
    "        }\n",
    "\n",
    "        req = urllib.request.Request(url, headers=hdr)\n",
    "\n",
    "        req.get_method = lambda: 'GET'   \n",
    "        with urllib.request.urlopen(req) as response:\n",
    "            body_json = response.read()\n",
    "            \n",
    "        haltes = json.loads(body_json)[\"haltes\"]\n",
    "        \n",
    "        lijnen_Gent_haltes_temp[pub] = []\n",
    "        \n",
    "        \n",
    "        for halte in haltes:\n",
    "            oms = halte[\"omschrijving\"]\n",
    "            if oms != \"\" and halte[\"omschrijvingGemeente\"] == \"Aalst (oost-vlaanderen)\":\n",
    "                if oms.startswith(\"Sint-Pietersstation\"):\n",
    "                    oms = \"Sint-Pietersstation\"\n",
    "                if oms.startswith(\"Zuid p\"):\n",
    "                    oms = \"Zuid\"\n",
    "                if oms.startswith(\"Dampoort p\"):\n",
    "                    oms = \"Dampoort\"\n",
    "                if oms.startswith(\"Arteveldestadion p\"):\n",
    "                    oms = \"Arteveldestadion\"\n",
    "                if oms.startswith(\"Sint-Jacobs p\"):\n",
    "                    oms = \"Sint-Jacobs\"\n",
    "                if oms.startswith(\"Sterre\"):\n",
    "                    oms = \"Sterre\"\n",
    "                if oms.startswith(\"Station p\"):\n",
    "                    oms = \"Station\"\n",
    "                lijnen_Gent_haltes_temp[pub].append(oms)\n",
    "    except Exception as e:\n",
    "        print(e)    "
   ]
  },
  {
   "cell_type": "code",
   "execution_count": 58,
   "metadata": {},
   "outputs": [],
   "source": [
    "lijnen_Gent_haltes = {}\n",
    "# voor Gent\n",
    "#lijnen_clean = [\"5a\", \"5b\", \"6\", \"9a\", \"9b\", \"10\", \"11\", \"12a\", \"12b\", \"16\", \"19\", \"20\", \"33\", \"40\", \"41\", \"42\", \"48\", \"49\", \"50\", \"55\", \"56\", \"60\", \"70\", \"71\", \"76\", \"77\", \"78\", \"79\"]\n",
    "# voor Aalst\n",
    "lijnen_clean = [\"1\",\"2\",\"20\",\"25\",\"31\",\"40\",\"54\",\"57\",\"59\",\"80\",\"87\",\"91\",\"212\",\"213\",\"214\"]\n",
    "for key, value in lijnen_Gent_haltes_temp.items():\n",
    "    if len(value) > 0 and key in lijnen_clean:\n",
    "        lijnen_Gent_haltes[key] = value"
   ]
  },
  {
   "cell_type": "code",
   "execution_count": 59,
   "metadata": {},
   "outputs": [
    {
     "name": "stdout",
     "output_type": "stream",
     "text": [
      "--- LIJN 20 ---\n",
      "Erpestraat | Sint-Apoloniastraat | Kreupelveldstraat | Welvaartstraat | Sinte Annalaan | VTI | Verastenstraat | Ledebaan | Meuleschettekapel | Esplanade | Esplanade | Station\n",
      "--- LIJN 59 ---\n",
      "Station | Vredeplein | Esplanade | Meuleschettekapel | Meuleschettekapel | Dendermondsesteenweg | Kerrebroekstraat\n",
      "--- LIJN 91 ---\n",
      "Station | Esplanade | Zwartehoekbrug | Tramstraat | Pier Kornel | Lion d'Or | Popperodedries | Bredestraat | Hammestraat\n",
      "--- LIJN 40 ---\n",
      "Station | Een Meistraat | Doolhofstraat | Onze-Lieve-Vrouw Ziekenhuis | Paardendries | Achterweg\n",
      "--- LIJN 2 ---\n",
      "Station | Een Meistraat | Doolhofstraat | Onze-Lieve-Vrouw Ziekenhuis | Zwembad | Beukendreef | Steenland | Borreput | Zandberg | Hof Somergem | Sint-Janskerk | Schietbaan | Crematorium | Stedelijk Ziekenhuis\n",
      "--- LIJN 54 ---\n",
      "Station | Vredeplein | Esplanade | Meuleschettekapel | Meuleschettekapel | Dendermondsesteenweg | Kerrebroekstraat\n",
      "--- LIJN 80 ---\n",
      "Station | Oude Vismarkt | Houtmarkt | Colinetstraat | Diepestraat | Capucienen\n",
      "--- LIJN 87 ---\n",
      "Station | Oude Vismarkt | Houtmarkt | Colinetstraat | Diepestraat | Capucienen\n",
      "--- LIJN 1 ---\n",
      "Stedelijk Ziekenhuis | Van Der Guchtlaan | Irisstraat | Korte Vooruitzichtstraat | Biekorfstraat | Boudewijnlaan | Technisch Atheneum 1 | VTI | Ledebaan | Meuleschettekapel | Esplanade | Esplanade | Station | Een Meistraat | Dokter De Moorstraat | Tulpstraat | Stadion | Popperodehof | Ouden Dendermondse | Dompelstraat | Binnenstraat | Sporthal Ten Rozen | Oude Abdijstraat | Fonteinstraat | Rozendreef | Oude Abdijstraat\n",
      "--- LIJN 31 ---\n",
      "Station | Oude Vismarkt | Houtmarkt | Blanckaertdreef | De Haring\n",
      "--- LIJN 57 ---\n",
      "Station | Vredeplein | Esplanade | Meuleschettekapel | Meuleschettekapel | Dendermondsesteenweg | Kerrebroekstraat\n",
      "--- LIJN 25 ---\n",
      "Station | Esplanade | Vredeplein | Gentsestraat | Sinte Annalaan | Welvaartstraat | Kreupelveldstraat | Sint-Apoloniastraat | Erpestraat\n"
     ]
    }
   ],
   "source": [
    "for key, value in lijnen_Gent_haltes.items():\n",
    "    print(f\"--- LIJN {key} ---\")\n",
    "    print(\" | \".join(value))"
   ]
  },
  {
   "cell_type": "code",
   "execution_count": 60,
   "metadata": {},
   "outputs": [
    {
     "name": "stdout",
     "output_type": "stream",
     "text": [
      "{'20': ['Erpestraat', 'Sint-Apoloniastraat', 'Kreupelveldstraat', 'Welvaartstraat', 'Sinte Annalaan', 'VTI', 'Verastenstraat', 'Ledebaan', 'Meuleschettekapel', 'Esplanade', 'Esplanade', 'Station'], '59': ['Station', 'Vredeplein', 'Esplanade', 'Meuleschettekapel', 'Meuleschettekapel', 'Dendermondsesteenweg', 'Kerrebroekstraat'], '91': ['Station', 'Esplanade', 'Zwartehoekbrug', 'Tramstraat', 'Pier Kornel', \"Lion d'Or\", 'Popperodedries', 'Bredestraat', 'Hammestraat'], '40': ['Station', 'Een Meistraat', 'Doolhofstraat', 'Onze-Lieve-Vrouw Ziekenhuis', 'Paardendries', 'Achterweg'], '2': ['Station', 'Een Meistraat', 'Doolhofstraat', 'Onze-Lieve-Vrouw Ziekenhuis', 'Zwembad', 'Beukendreef', 'Steenland', 'Borreput', 'Zandberg', 'Hof Somergem', 'Sint-Janskerk', 'Schietbaan', 'Crematorium', 'Stedelijk Ziekenhuis'], '54': ['Station', 'Vredeplein', 'Esplanade', 'Meuleschettekapel', 'Meuleschettekapel', 'Dendermondsesteenweg', 'Kerrebroekstraat'], '80': ['Station', 'Oude Vismarkt', 'Houtmarkt', 'Colinetstraat', 'Diepestraat', 'Capucienen'], '87': ['Station', 'Oude Vismarkt', 'Houtmarkt', 'Colinetstraat', 'Diepestraat', 'Capucienen'], '1': ['Stedelijk Ziekenhuis', 'Van Der Guchtlaan', 'Irisstraat', 'Korte Vooruitzichtstraat', 'Biekorfstraat', 'Boudewijnlaan', 'Technisch Atheneum 1', 'VTI', 'Ledebaan', 'Meuleschettekapel', 'Esplanade', 'Esplanade', 'Station', 'Een Meistraat', 'Dokter De Moorstraat', 'Tulpstraat', 'Stadion', 'Popperodehof', 'Ouden Dendermondse', 'Dompelstraat', 'Binnenstraat', 'Sporthal Ten Rozen', 'Oude Abdijstraat', 'Fonteinstraat', 'Rozendreef', 'Oude Abdijstraat'], '31': ['Station', 'Oude Vismarkt', 'Houtmarkt', 'Blanckaertdreef', 'De Haring'], '57': ['Station', 'Vredeplein', 'Esplanade', 'Meuleschettekapel', 'Meuleschettekapel', 'Dendermondsesteenweg', 'Kerrebroekstraat'], '25': ['Station', 'Esplanade', 'Vredeplein', 'Gentsestraat', 'Sinte Annalaan', 'Welvaartstraat', 'Kreupelveldstraat', 'Sint-Apoloniastraat', 'Erpestraat']}\n"
     ]
    }
   ],
   "source": [
    "print(lijnen_Gent_haltes)"
   ]
  }
 ],
 "metadata": {
  "kernelspec": {
   "display_name": "Python 3",
   "language": "python",
   "name": "python3"
  },
  "language_info": {
   "codemirror_mode": {
    "name": "ipython",
    "version": 3
   },
   "file_extension": ".py",
   "mimetype": "text/x-python",
   "name": "python",
   "nbconvert_exporter": "python",
   "pygments_lexer": "ipython3",
   "version": "3.10.12"
  }
 },
 "nbformat": 4,
 "nbformat_minor": 2
}
